{
 "cells": [
  {
   "cell_type": "code",
   "execution_count": 1,
   "id": "206b191f",
   "metadata": {},
   "outputs": [],
   "source": [
    "import json\n",
    "import requests\n",
    "import requests_cache\n",
    "import pandas as pd\n",
    "import pprint\n",
    "import numpy as np\n",
    "import isodbtools\n",
    "\n",
    "requests_cache.install_cache('api_map_cache')"
   ]
  },
  {
   "cell_type": "markdown",
   "id": "772aaae5",
   "metadata": {},
   "source": [
    "# Download Helpful Data Files"
   ]
  },
  {
   "cell_type": "code",
   "execution_count": 2,
   "id": "43234e98",
   "metadata": {},
   "outputs": [],
   "source": [
    "# Build a Library of Adsorptives\n",
    "#   NOTE: this will accelerate name <-> InChIKey mapping\n",
    "URL = 'https://adsorption.nist.gov/isodb/api/gases.json'\n",
    "adsorptives = requests.get(URL).json()\n",
    "\n",
    "# Build a Library of Adsorbents\n",
    "URL = 'https://adsorption.nist.gov/matdb/api/materials.json'\n",
    "adsorbents = requests.get(URL).json()\n",
    "\n",
    "# Download the (abbreviated) Isotherm Library\n",
    "URL = 'https://adsorption.nist.gov/isodb/api/isotherms.json'\n",
    "isotherms = requests.get(URL).json()"
   ]
  },
  {
   "cell_type": "markdown",
   "id": "6cc746ed",
   "metadata": {},
   "source": [
    "# Define Search Criteria"
   ]
  },
  {
   "cell_type": "code",
   "execution_count": 14,
   "id": "85a608e7",
   "metadata": {},
   "outputs": [
    {
     "name": "stdout",
     "output_type": "stream",
     "text": [
      "{'InChICode': 'InChI=1S/CO2/c2-1-3',\n",
      " 'InChIKey': 'CURLTUGMZLYLDI-UHFFFAOYSA-N',\n",
      " 'formula': 'CO2',\n",
      " 'name': 'Carbon Dioxide',\n",
      " 'synonyms': ['Carbon dioxide', 'Carbon oxide', 'CO2']}\n"
     ]
    }
   ],
   "source": [
    "# Adsorptive Species\n",
    "adsorptive = 'CO2'\n",
    "adsorptive = requests.get('https://adsorption.nist.gov/isodb/api/gas/'+adsorptive+'.json').json()\n",
    "pprint.pprint(adsorptive)\n",
    "target_InChIKey = adsorptive['InChIKey']\n",
    "\n",
    "# Temperature Range\n",
    "temperature_min = 273 #K\n",
    "temperature_max = 323 #K"
   ]
  },
  {
   "cell_type": "markdown",
   "id": "9f108d37",
   "metadata": {},
   "source": [
    "# Filter Isotherms Library against first-level criteria"
   ]
  },
  {
   "cell_type": "code",
   "execution_count": 17,
   "id": "2f0996cb",
   "metadata": {},
   "outputs": [],
   "source": [
    "candidate_isotherms = []\n",
    "\n",
    "for index,isotherm in enumerate(isotherms):\n",
    "    # Select single-component isotherms with desired adsorptive\n",
    "    if len(isotherm['adsorbates']) == 1 and isotherm['adsorbates'][0]['InChIKey'] == target_InChIKey:\n",
    "        if temperature_min <= isotherm['temperature'] <= temperature_max:\n",
    "            #print(isotherm['filename'], isotherm['temperature'])\n",
    "            candidate_isotherms.append(isotherm['filename'])\n",
    "    #if index == 1000: break"
   ]
  },
  {
   "cell_type": "markdown",
   "id": "25e764fa",
   "metadata": {},
   "source": [
    "# Filter Isotherms against second-level criteria"
   ]
  },
  {
   "cell_type": "code",
   "execution_count": 18,
   "id": "1d705c45",
   "metadata": {},
   "outputs": [
    {
     "name": "stdout",
     "output_type": "stream",
     "text": [
      "{'DOI': '10.1002/adfm.201101479',\n",
      " 'adsorbates': [{'InChIKey': 'CURLTUGMZLYLDI-UHFFFAOYSA-N',\n",
      "                 'name': 'Carbon Dioxide'}],\n",
      " 'adsorbent': {'hashkey': 'NIST-MATDB-655315f090663b4723680a6683f06403',\n",
      "               'name': 'Zn(BDC)(DMBPY) 0.5'},\n",
      " 'adsorptionUnits': 'wt%',\n",
      " 'articleSource': 'UNKNOWN',\n",
      " 'category': '',\n",
      " 'compositionType': 'molefraction',\n",
      " 'concentrationUnits': '',\n",
      " 'date': '1000-01-01',\n",
      " 'digitizer': 'UNKNOWN',\n",
      " 'filename': '10.1002adfm.201101479.Isotherm13',\n",
      " 'isotherm_data': [{'pressure': 0.0323955,\n",
      "                    'species_data': [{'InChIKey': 'CURLTUGMZLYLDI-UHFFFAOYSA-N',\n",
      "                                      'adsorption': 0.363636,\n",
      "                                      'composition': 1}],\n",
      "                    'total_adsorption': 0.363636},\n",
      "                   {'pressure': 0.0500395,\n",
      "                    'species_data': [{'InChIKey': 'CURLTUGMZLYLDI-UHFFFAOYSA-N',\n",
      "                                      'adsorption': 0.454545,\n",
      "                                      'composition': 1}],\n",
      "                    'total_adsorption': 0.454545},\n",
      "                   {'pressure': 0.0647465,\n",
      "                    'species_data': [{'InChIKey': 'CURLTUGMZLYLDI-UHFFFAOYSA-N',\n",
      "                                      'adsorption': 0.545455,\n",
      "                                      'composition': 1}],\n",
      "                    'total_adsorption': 0.545455},\n",
      "                   {'pressure': 0.0794758,\n",
      "                    'species_data': [{'InChIKey': 'CURLTUGMZLYLDI-UHFFFAOYSA-N',\n",
      "                                      'adsorption': 0.727273,\n",
      "                                      'composition': 1}],\n",
      "                    'total_adsorption': 0.727273},\n",
      "                   {'pressure': 0.103027,\n",
      "                    'species_data': [{'InChIKey': 'CURLTUGMZLYLDI-UHFFFAOYSA-N',\n",
      "                                      'adsorption': 0.954545,\n",
      "                                      'composition': 1}],\n",
      "                    'total_adsorption': 0.954545},\n",
      "                   {'pressure': 0.126567,\n",
      "                    'species_data': [{'InChIKey': 'CURLTUGMZLYLDI-UHFFFAOYSA-N',\n",
      "                                      'adsorption': 1.13636,\n",
      "                                      'composition': 1}],\n",
      "                    'total_adsorption': 1.13636},\n",
      "                   {'pressure': 0.161889,\n",
      "                    'species_data': [{'InChIKey': 'CURLTUGMZLYLDI-UHFFFAOYSA-N',\n",
      "                                      'adsorption': 1.45455,\n",
      "                                      'composition': 1}],\n",
      "                    'total_adsorption': 1.45455},\n",
      "                   {'pressure': 0.20601,\n",
      "                    'species_data': [{'InChIKey': 'CURLTUGMZLYLDI-UHFFFAOYSA-N',\n",
      "                                      'adsorption': 1.72727,\n",
      "                                      'composition': 1}],\n",
      "                    'total_adsorption': 1.72727},\n",
      "                   {'pressure': 0.256027,\n",
      "                    'species_data': [{'InChIKey': 'CURLTUGMZLYLDI-UHFFFAOYSA-N',\n",
      "                                      'adsorption': 2.09091,\n",
      "                                      'composition': 1}],\n",
      "                    'total_adsorption': 2.09091},\n",
      "                   {'pressure': 0.326603,\n",
      "                    'species_data': [{'InChIKey': 'CURLTUGMZLYLDI-UHFFFAOYSA-N',\n",
      "                                      'adsorption': 2.45455,\n",
      "                                      'composition': 1}],\n",
      "                    'total_adsorption': 2.45455},\n",
      "                   {'pressure': 0.408949,\n",
      "                    'species_data': [{'InChIKey': 'CURLTUGMZLYLDI-UHFFFAOYSA-N',\n",
      "                                      'adsorption': 2.90909,\n",
      "                                      'composition': 1}],\n",
      "                    'total_adsorption': 2.90909},\n",
      "                   {'pressure': 0.508906,\n",
      "                    'species_data': [{'InChIKey': 'CURLTUGMZLYLDI-UHFFFAOYSA-N',\n",
      "                                      'adsorption': 3.31818,\n",
      "                                      'composition': 1}],\n",
      "                    'total_adsorption': 3.31818},\n",
      "                   {'pressure': 0.573574,\n",
      "                    'species_data': [{'InChIKey': 'CURLTUGMZLYLDI-UHFFFAOYSA-N',\n",
      "                                      'adsorption': 3.54545,\n",
      "                                      'composition': 1}],\n",
      "                    'total_adsorption': 3.54545},\n",
      "                   {'pressure': 0.644139,\n",
      "                    'species_data': [{'InChIKey': 'CURLTUGMZLYLDI-UHFFFAOYSA-N',\n",
      "                                      'adsorption': 3.86364,\n",
      "                                      'composition': 1}],\n",
      "                    'total_adsorption': 3.86364},\n",
      "                   {'pressure': 0.720567,\n",
      "                    'species_data': [{'InChIKey': 'CURLTUGMZLYLDI-UHFFFAOYSA-N',\n",
      "                                      'adsorption': 4.13636,\n",
      "                                      'composition': 1}],\n",
      "                    'total_adsorption': 4.13636},\n",
      "                   {'pressure': 0.80585,\n",
      "                    'species_data': [{'InChIKey': 'CURLTUGMZLYLDI-UHFFFAOYSA-N',\n",
      "                                      'adsorption': 4.59091,\n",
      "                                      'composition': 1}],\n",
      "                    'total_adsorption': 4.59091},\n",
      "                   {'pressure': 0.905851,\n",
      "                    'species_data': [{'InChIKey': 'CURLTUGMZLYLDI-UHFFFAOYSA-N',\n",
      "                                      'adsorption': 5.18182,\n",
      "                                      'composition': 1}],\n",
      "                    'total_adsorption': 5.18182},\n",
      "                   {'pressure': 0.970609,\n",
      "                    'species_data': [{'InChIKey': 'CURLTUGMZLYLDI-UHFFFAOYSA-N',\n",
      "                                      'adsorption': 5.77273,\n",
      "                                      'composition': 1}],\n",
      "                    'total_adsorption': 5.77273},\n",
      "                   {'pressure': 1.01184,\n",
      "                    'species_data': [{'InChIKey': 'CURLTUGMZLYLDI-UHFFFAOYSA-N',\n",
      "                                      'adsorption': 6.22727,\n",
      "                                      'composition': 1}],\n",
      "                    'total_adsorption': 6.22727}],\n",
      " 'isotherm_type': '',\n",
      " 'pressureUnits': 'bar',\n",
      " 'tabular_data': 0,\n",
      " 'temperature': 288}\n"
     ]
    }
   ],
   "source": [
    "for index,filename in enumerate(candidate_isotherms):\n",
    "    URL = 'https://adsorption.nist.gov/isodb/api/isotherm/'+filename+'.json&k=dontrackmeplease'\n",
    "    isotherm_full = requests.get(URL).json()\n",
    "    pprint.pprint(isotherm_full)\n",
    "    \n",
    "    \n",
    "    if index == 0: break"
   ]
  },
  {
   "cell_type": "code",
   "execution_count": null,
   "id": "9dff7ea6",
   "metadata": {},
   "outputs": [],
   "source": []
  }
 ],
 "metadata": {
  "kernelspec": {
   "display_name": "Python 3",
   "language": "python",
   "name": "python3"
  },
  "language_info": {
   "codemirror_mode": {
    "name": "ipython",
    "version": 3
   },
   "file_extension": ".py",
   "mimetype": "text/x-python",
   "name": "python",
   "nbconvert_exporter": "python",
   "pygments_lexer": "ipython3",
   "version": "3.8.8"
  }
 },
 "nbformat": 4,
 "nbformat_minor": 5
}
